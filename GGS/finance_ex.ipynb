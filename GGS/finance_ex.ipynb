{
 "cells": [
  {
   "cell_type": "code",
   "execution_count": 10,
   "metadata": {
    "collapsed": true
   },
   "outputs": [],
   "source": [
    "from GGS.ggs import *\n",
    "import numpy as np\n",
    "import matplotlib.pyplot as plt\n",
    "from utils.index_data import index_data"
   ]
  },
  {
   "cell_type": "code",
   "execution_count": 2,
   "outputs": [],
   "source": [
    "# Read in daily log returns from 1997-2015 of 10 indices:\n",
    "# DM stocks, EM stocks, Real estate, Oil, Gold, HY bonds, EM HY bonds, GVT bonds, CORP bonds, IFL bonds\n",
    "filename = \"Data/Returns.txt\"\n",
    "data = np.genfromtxt(filename,delimiter=' ')\n",
    "# Select DM stocks, Oil, and GVT bonds\n",
    "feats = [0,3,7]"
   ],
   "metadata": {
    "collapsed": false,
    "pycharm": {
     "name": "#%%\n"
    }
   }
  },
  {
   "cell_type": "code",
   "execution_count": 3,
   "outputs": [],
   "source": [
    "data = data.T #Convert to an n-by-T matrix"
   ],
   "metadata": {
    "collapsed": false,
    "pycharm": {
     "name": "#%%\n"
    }
   }
  },
  {
   "cell_type": "code",
   "execution_count": 4,
   "outputs": [
    {
     "data": {
      "text/plain": "array([[-7.70893134e-03,  6.61430310e-03,  2.51530822e-03, ...,\n         9.27858268e-03, -5.40392815e-03, -8.14417537e-03],\n       [-4.61986403e-04,  5.57930435e-03,  7.30306372e-03, ...,\n        -6.95526605e-04, -1.03321969e-02,  3.37424044e-03],\n       [-1.32153534e-02, -1.83108099e-03,  8.15299487e-03, ...,\n         9.05293117e-03, -2.78165072e-03, -8.09221238e-03],\n       ...,\n       [-4.78024183e-03,  1.22154582e-03, -8.31688112e-04, ...,\n        -1.91069884e-03, -4.96056352e-05,  1.19536192e-03],\n       [-5.81979188e-03,  1.31063939e-03, -6.01972363e-04, ...,\n        -5.59555841e-03,  1.24486606e-03,  2.18549519e-03],\n       [-6.66616962e-03,  9.48856890e-04, -1.29320362e-03, ...,\n        -2.30432686e-03, -3.56978541e-03,  3.55204180e-03]])"
     },
     "execution_count": 4,
     "metadata": {},
     "output_type": "execute_result"
    }
   ],
   "source": [
    "data"
   ],
   "metadata": {
    "collapsed": false,
    "pycharm": {
     "name": "#%%\n"
    }
   }
  },
  {
   "cell_type": "code",
   "execution_count": 5,
   "outputs": [],
   "source": [
    "bps, objectives = GGS(data, Kmax = 10, lamb = 1e-4, features = feats)"
   ],
   "metadata": {
    "collapsed": false,
    "pycharm": {
     "name": "#%%\n"
    }
   }
  },
  {
   "cell_type": "code",
   "execution_count": 6,
   "outputs": [
    {
     "data": {
      "text/plain": "[0, 208, 458, 1389, 1643, 1976, 2736, 3044, 3187, 4057, 4659, 4944]"
     },
     "execution_count": 6,
     "metadata": {},
     "output_type": "execute_result"
    }
   ],
   "source": [
    "# Find means and covariances of the segments, given the selected breakpoints\n",
    "bp10 = bps[10] # Get breakpoints for K = 10\n",
    "bp10"
   ],
   "metadata": {
    "collapsed": false,
    "pycharm": {
     "name": "#%%\n"
    }
   }
  },
  {
   "cell_type": "code",
   "execution_count": 7,
   "outputs": [],
   "source": [
    "meancovs = GGSMeanCov(data, breakpoints = bp10, lamb = 1e-4, features = feats)"
   ],
   "metadata": {
    "collapsed": false,
    "pycharm": {
     "name": "#%%\n"
    }
   }
  },
  {
   "cell_type": "code",
   "execution_count": 8,
   "outputs": [
    {
     "name": "stdout",
     "output_type": "stream",
     "text": [
      "Breakpoints are at [[0, 4944], [0, 3035, 4944], [0, 3037, 3187, 4944], [0, 3037, 3187, 4659, 4944], [0, 3037, 3187, 4057, 4659, 4944], [0, 1658, 3037, 3187, 4057, 4659, 4944], [0, 1757, 2736, 3044, 3187, 4057, 4659, 4944], [0, 208, 1757, 2736, 3044, 3187, 4057, 4659, 4944], [0, 208, 1389, 1658, 2744, 3044, 3187, 4057, 4659, 4944], [0, 208, 1389, 1643, 1976, 2736, 3044, 3187, 4057, 4659, 4944], [0, 208, 458, 1389, 1643, 1976, 2736, 3044, 3187, 4057, 4659, 4944]]\n",
      "Objectives are [146726.29558438572, 147257.91025022147, 148357.6796225891, 148733.71033653826, 149088.1014570355, 149343.9555248909, 149595.3344487291, 149811.39361878132, 149930.66944821613, 150010.55122528473, 150070.1622079874]\n"
     ]
    }
   ],
   "source": [
    "print(\"Breakpoints are at\", bps)\n",
    "print(\"Objectives are\", objectives)"
   ],
   "metadata": {
    "collapsed": false,
    "pycharm": {
     "name": "#%%\n"
    }
   }
  },
  {
   "cell_type": "code",
   "execution_count": 9,
   "outputs": [
    {
     "data": {
      "text/plain": "<Figure size 432x288 with 1 Axes>",
      "image/png": "[encoded data removed]"
     },
     "metadata": {
      "needs_background": "light"
     },
     "output_type": "display_data"
    }
   ],
   "source": [
    "# Plot objective vs. number of breakpoints\n",
    "plotVals = range(len(objectives))\n",
    "plt.plot(plotVals, objectives, 'or-')\n",
    "plt.xlabel('Number of Breakpoints')\n",
    "plt.ylabel(r'$\\phi(b)$')\n",
    "plt.show()"
   ],
   "metadata": {
    "collapsed": false,
    "pycharm": {
     "name": "#%%\n"
    }
   }
  },
  {
   "cell_type": "code",
   "execution_count": 9,
   "outputs": [],
   "source": [],
   "metadata": {
    "collapsed": false,
    "pycharm": {
     "name": "#%%\n"
    }
   }
  },
  {
   "cell_type": "code",
   "execution_count": 19,
   "outputs": [],
   "source": [
    "data_setting = {\n",
    "    'start' : '1992-01-01',\n",
    "    'end'   : '2021-06-30',\n",
    "    'rebal_period':'1M'\n",
    "}\n",
    "\n",
    "data = index_data(**data_setting)\n",
    "return_df = data.index_data_loading()"
   ],
   "metadata": {
    "collapsed": false,
    "pycharm": {
     "name": "#%%\n"
    }
   }
  },
  {
   "cell_type": "code",
   "execution_count": 20,
   "outputs": [
    {
     "data": {
      "text/plain": "            msci_acwi  msci_world  msci_emerging  msci_world_gross  \\\n1992-01-31   0.000000    0.000000       0.000000         -0.031464   \n1992-02-29  -0.017548   -0.020678       0.103012         -0.023750   \n1992-03-31  -0.015102   -0.017357       0.054748         -0.048605   \n1992-04-30  -0.063123   -0.066034       0.029763         -0.011712   \n1992-05-31   0.026335    0.027579      -0.009451          0.042249   \n\n            msci_world_value  msci_real_estate  bb_world_agg  bb_emerging_agg  \\\n1992-01-31         -0.009100               0.0     -0.002171              0.0   \n1992-02-29         -0.014170               0.0     -0.013095              0.0   \n1992-03-31         -0.049508               0.0      0.003074              0.0   \n1992-04-30          0.035704               0.0      0.003851              0.0   \n1992-05-31          0.033392               0.0      0.006528              0.0   \n\n            bb_corp_ig  bb_corp_hy  bb_infla_protect  snp_commodity  \n1992-01-31   -0.002588    0.035225               0.0       0.005368  \n1992-02-29   -0.012103    0.024673               0.0       0.025628  \n1992-03-31    0.006558    0.012399               0.0      -0.023659  \n1992-04-30    0.005622    0.003798               0.0       0.030560  \n1992-05-31    0.004180    0.014110               0.0       0.023145  ",
      "text/html": "<div>\n<style scoped>\n    .dataframe tbody tr th:only-of-type {\n        vertical-align: middle;\n    }\n\n    .dataframe tbody tr th {\n        vertical-align: top;\n    }\n\n    .dataframe thead th {\n        text-align: right;\n    }\n</style>\n<table border=\"1\" class=\"dataframe\">\n  <thead>\n    <tr style=\"text-align: right;\">\n      <th></th>\n      <th>msci_acwi</th>\n      <th>msci_world</th>\n      <th>msci_emerging</th>\n      <th>msci_world_gross</th>\n      <th>msci_world_value</th>\n      <th>msci_real_estate</th>\n      <th>bb_world_agg</th>\n      <th>bb_emerging_agg</th>\n      <th>bb_corp_ig</th>\n      <th>bb_corp_hy</th>\n      <th>bb_infla_protect</th>\n      <th>snp_commodity</th>\n    </tr>\n  </thead>\n  <tbody>\n    <tr>\n      <th>1992-01-31</th>\n      <td>0.000000</td>\n      <td>0.000000</td>\n      <td>0.000000</td>\n      <td>-0.031464</td>\n      <td>-0.009100</td>\n      <td>0.0</td>\n      <td>-0.002171</td>\n      <td>0.0</td>\n      <td>-0.002588</td>\n      <td>0.035225</td>\n      <td>0.0</td>\n      <td>0.005368</td>\n    </tr>\n    <tr>\n      <th>1992-02-29</th>\n      <td>-0.017548</td>\n      <td>-0.020678</td>\n      <td>0.103012</td>\n      <td>-0.023750</td>\n      <td>-0.014170</td>\n      <td>0.0</td>\n      <td>-0.013095</td>\n      <td>0.0</td>\n      <td>-0.012103</td>\n      <td>0.024673</td>\n      <td>0.0</td>\n      <td>0.025628</td>\n    </tr>\n    <tr>\n      <th>1992-03-31</th>\n      <td>-0.015102</td>\n      <td>-0.017357</td>\n      <td>0.054748</td>\n      <td>-0.048605</td>\n      <td>-0.049508</td>\n      <td>0.0</td>\n      <td>0.003074</td>\n      <td>0.0</td>\n      <td>0.006558</td>\n      <td>0.012399</td>\n      <td>0.0</td>\n      <td>-0.023659</td>\n    </tr>\n    <tr>\n      <th>1992-04-30</th>\n      <td>-0.063123</td>\n      <td>-0.066034</td>\n      <td>0.029763</td>\n      <td>-0.011712</td>\n      <td>0.035704</td>\n      <td>0.0</td>\n      <td>0.003851</td>\n      <td>0.0</td>\n      <td>0.005622</td>\n      <td>0.003798</td>\n      <td>0.0</td>\n      <td>0.030560</td>\n    </tr>\n    <tr>\n      <th>1992-05-31</th>\n      <td>0.026335</td>\n      <td>0.027579</td>\n      <td>-0.009451</td>\n      <td>0.042249</td>\n      <td>0.033392</td>\n      <td>0.0</td>\n      <td>0.006528</td>\n      <td>0.0</td>\n      <td>0.004180</td>\n      <td>0.014110</td>\n      <td>0.0</td>\n      <td>0.023145</td>\n    </tr>\n  </tbody>\n</table>\n</div>"
     },
     "execution_count": 20,
     "metadata": {},
     "output_type": "execute_result"
    }
   ],
   "source": [
    "return_df.head()"
   ],
   "metadata": {
    "collapsed": false,
    "pycharm": {
     "name": "#%%\n"
    }
   }
  },
  {
   "cell_type": "code",
   "execution_count": 20,
   "outputs": [],
   "source": [],
   "metadata": {
    "collapsed": false,
    "pycharm": {
     "name": "#%%\n"
    }
   }
  },
  {
   "cell_type": "code",
   "execution_count": 21,
   "outputs": [
    {
     "data": {
      "text/plain": "array([[ 0.        , -0.01754782, -0.01510157, ...,  0.01483923,\n         0.03356504,  0.01485831],\n       [ 0.        , -0.02067767, -0.01735681, ...,  0.02029314,\n         0.03819463,  0.01131018],\n       [ 0.        ,  0.10301247,  0.05474808, ..., -0.01998576,\n         0.00273359,  0.03880827],\n       ...,\n       [ 0.0352255 ,  0.02467317,  0.01239892, ...,  0.00070752,\n         0.01015656,  0.0026823 ],\n       [ 0.        ,  0.        ,  0.        , ...,  0.0007054 ,\n         0.01747657,  0.008917  ],\n       [ 0.00536804,  0.0256284 , -0.02365889, ...,  0.00145341,\n         0.07517119,  0.03498576]])"
     },
     "execution_count": 21,
     "metadata": {},
     "output_type": "execute_result"
    }
   ],
   "source": [
    "return_df = return_df.T\n",
    "_return_df = np.array(return_df)\n",
    "_return_df"
   ],
   "metadata": {
    "collapsed": false,
    "pycharm": {
     "name": "#%%\n"
    }
   }
  },
  {
   "cell_type": "code",
   "execution_count": 24,
   "outputs": [],
   "source": [
    "feats = [1,2,5,6,11]"
   ],
   "metadata": {
    "collapsed": false,
    "pycharm": {
     "name": "#%%\n"
    }
   }
  },
  {
   "cell_type": "code",
   "execution_count": 28,
   "outputs": [],
   "source": [
    "bps, objectives = GGS(_return_df, Kmax = 10, lamb = 1e-4, features = feats)"
   ],
   "metadata": {
    "collapsed": false,
    "pycharm": {
     "name": "#%%\n"
    }
   }
  },
  {
   "cell_type": "code",
   "execution_count": 29,
   "outputs": [
    {
     "data": {
      "text/plain": "[0, 97, 138, 186, 199, 202, 207, 218, 248, 339, 342, 355]"
     },
     "execution_count": 29,
     "metadata": {},
     "output_type": "execute_result"
    }
   ],
   "source": [
    "bp10 = bps[10] # Get breakpoints for K = 10\n",
    "bp10"
   ],
   "metadata": {
    "collapsed": false,
    "pycharm": {
     "name": "#%%\n"
    }
   }
  },
  {
   "cell_type": "code",
   "execution_count": 31,
   "outputs": [],
   "source": [
    "meancovs = GGSMeanCov(_return_df, breakpoints = bp10, lamb = 1e-4, features = feats)"
   ],
   "metadata": {
    "collapsed": false,
    "pycharm": {
     "name": "#%%\n"
    }
   }
  },
  {
   "cell_type": "code",
   "execution_count": 32,
   "outputs": [
    {
     "name": "stdout",
     "output_type": "stream",
     "text": [
      "Breakpoints are at [[0, 355], [0, 97, 355], [0, 97, 210, 355], [0, 97, 202, 210, 355], [0, 97, 202, 210, 339, 355], [0, 97, 138, 201, 210, 339, 355], [0, 97, 138, 186, 202, 210, 339, 355], [0, 97, 138, 186, 202, 210, 339, 342, 355], [0, 97, 138, 186, 202, 210, 248, 339, 342, 355], [0, 97, 138, 186, 202, 207, 218, 248, 339, 342, 355], [0, 97, 138, 186, 199, 202, 207, 218, 248, 339, 342, 355]]\n",
      "Objectives are [12195.553385804193, 13069.078029955916, 13188.371094112845, 13312.727946566116, 13382.245063684384, 13446.889517750025, 13508.172325165642, 13572.421010725038, 13627.889860383377, 13674.52772810363, 13729.085433654804]\n"
     ]
    }
   ],
   "source": [
    "print(\"Breakpoints are at\", bps)\n",
    "print(\"Objectives are\", objectives)"
   ],
   "metadata": {
    "collapsed": false,
    "pycharm": {
     "name": "#%%\n"
    }
   }
  },
  {
   "cell_type": "code",
   "execution_count": null,
   "outputs": [],
   "source": [],
   "metadata": {
    "collapsed": false,
    "pycharm": {
     "name": "#%%\n"
    }
   }
  }
 ],
 "metadata": {
  "kernelspec": {
   "display_name": "Python 3",
   "language": "python",
   "name": "python3"
  },
  "language_info": {
   "codemirror_mode": {
    "name": "ipython",
    "version": 2
   },
   "file_extension": ".py",
   "mimetype": "text/x-python",
   "name": "python",
   "nbconvert_exporter": "python",
   "pygments_lexer": "ipython2",
   "version": "2.7.6"
  }
 },
 "nbformat": 4,
 "nbformat_minor": 0
}